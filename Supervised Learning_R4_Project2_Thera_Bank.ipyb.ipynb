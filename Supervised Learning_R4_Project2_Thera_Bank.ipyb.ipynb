{
 "cells": [
  {
   "cell_type": "code",
   "execution_count": 10,
   "metadata": {},
   "outputs": [
    {
     "data": {
      "text/html": [
       "<div>\n",
       "<style scoped>\n",
       "    .dataframe tbody tr th:only-of-type {\n",
       "        vertical-align: middle;\n",
       "    }\n",
       "\n",
       "    .dataframe tbody tr th {\n",
       "        vertical-align: top;\n",
       "    }\n",
       "\n",
       "    .dataframe thead th {\n",
       "        text-align: right;\n",
       "    }\n",
       "</style>\n",
       "<table border=\"1\" class=\"dataframe\">\n",
       "  <thead>\n",
       "    <tr style=\"text-align: right;\">\n",
       "      <th></th>\n",
       "      <th>ID</th>\n",
       "      <th>Age</th>\n",
       "      <th>Experience</th>\n",
       "      <th>Income</th>\n",
       "      <th>ZIP Code</th>\n",
       "      <th>Family</th>\n",
       "      <th>CCAvg</th>\n",
       "      <th>Education</th>\n",
       "      <th>Mortgage</th>\n",
       "      <th>Personal Loan</th>\n",
       "      <th>Securities Account</th>\n",
       "      <th>CD Account</th>\n",
       "      <th>Online</th>\n",
       "      <th>CreditCard</th>\n",
       "    </tr>\n",
       "  </thead>\n",
       "  <tbody>\n",
       "    <tr>\n",
       "      <th>0</th>\n",
       "      <td>1</td>\n",
       "      <td>25</td>\n",
       "      <td>1</td>\n",
       "      <td>49</td>\n",
       "      <td>91107</td>\n",
       "      <td>4</td>\n",
       "      <td>1.6</td>\n",
       "      <td>1</td>\n",
       "      <td>0</td>\n",
       "      <td>0</td>\n",
       "      <td>1</td>\n",
       "      <td>0</td>\n",
       "      <td>0</td>\n",
       "      <td>0</td>\n",
       "    </tr>\n",
       "    <tr>\n",
       "      <th>1</th>\n",
       "      <td>2</td>\n",
       "      <td>45</td>\n",
       "      <td>19</td>\n",
       "      <td>34</td>\n",
       "      <td>90089</td>\n",
       "      <td>3</td>\n",
       "      <td>1.5</td>\n",
       "      <td>1</td>\n",
       "      <td>0</td>\n",
       "      <td>0</td>\n",
       "      <td>1</td>\n",
       "      <td>0</td>\n",
       "      <td>0</td>\n",
       "      <td>0</td>\n",
       "    </tr>\n",
       "    <tr>\n",
       "      <th>2</th>\n",
       "      <td>3</td>\n",
       "      <td>39</td>\n",
       "      <td>15</td>\n",
       "      <td>11</td>\n",
       "      <td>94720</td>\n",
       "      <td>1</td>\n",
       "      <td>1.0</td>\n",
       "      <td>1</td>\n",
       "      <td>0</td>\n",
       "      <td>0</td>\n",
       "      <td>0</td>\n",
       "      <td>0</td>\n",
       "      <td>0</td>\n",
       "      <td>0</td>\n",
       "    </tr>\n",
       "    <tr>\n",
       "      <th>3</th>\n",
       "      <td>4</td>\n",
       "      <td>35</td>\n",
       "      <td>9</td>\n",
       "      <td>100</td>\n",
       "      <td>94112</td>\n",
       "      <td>1</td>\n",
       "      <td>2.7</td>\n",
       "      <td>2</td>\n",
       "      <td>0</td>\n",
       "      <td>0</td>\n",
       "      <td>0</td>\n",
       "      <td>0</td>\n",
       "      <td>0</td>\n",
       "      <td>0</td>\n",
       "    </tr>\n",
       "    <tr>\n",
       "      <th>4</th>\n",
       "      <td>5</td>\n",
       "      <td>35</td>\n",
       "      <td>8</td>\n",
       "      <td>45</td>\n",
       "      <td>91330</td>\n",
       "      <td>4</td>\n",
       "      <td>1.0</td>\n",
       "      <td>2</td>\n",
       "      <td>0</td>\n",
       "      <td>0</td>\n",
       "      <td>0</td>\n",
       "      <td>0</td>\n",
       "      <td>0</td>\n",
       "      <td>1</td>\n",
       "    </tr>\n",
       "  </tbody>\n",
       "</table>\n",
       "</div>"
      ],
      "text/plain": [
       "   ID  Age  Experience  Income  ZIP Code  Family  CCAvg  Education  Mortgage  \\\n",
       "0   1   25           1      49     91107       4    1.6          1         0   \n",
       "1   2   45          19      34     90089       3    1.5          1         0   \n",
       "2   3   39          15      11     94720       1    1.0          1         0   \n",
       "3   4   35           9     100     94112       1    2.7          2         0   \n",
       "4   5   35           8      45     91330       4    1.0          2         0   \n",
       "\n",
       "   Personal Loan  Securities Account  CD Account  Online  CreditCard  \n",
       "0              0                   1           0       0           0  \n",
       "1              0                   1           0       0           0  \n",
       "2              0                   0           0       0           0  \n",
       "3              0                   0           0       0           0  \n",
       "4              0                   0           0       0           1  "
      ]
     },
     "execution_count": 10,
     "metadata": {},
     "output_type": "execute_result"
    }
   ],
   "source": [
    "import numpy as np\n",
    "import pandas as pd\n",
    "import matplotlib.pyplot as plt\n",
    "import seaborn as sns\n",
    "from sklearn import metrics,preprocessing\n",
    "from sklearn.model_selection import GridSearchCV,train_test_split\n",
    "from sklearn.linear_model import LogisticRegression\n",
    "from sklearn.neighbors import KNeighborsClassifier\n",
    "from sklearn.tree import DecisionTreeClassifier\n",
    "from sklearn.naive_bayes import GaussianNB\n",
    "from sklearn.svm import SVC\n",
    "from sklearn.ensemble import RandomForestClassifier\n",
    "import scipy.stats as stats\n",
    "from scipy.cluster.hierarchy import dendrogram,linkage\n",
    "from sklearn.cluster import AgglomerativeClustering, KMeans\n",
    "from sklearn.decomposition import PCA\n",
    "data=pd.read_csv(\"Bank_Personal_Loan_Modelling-1.csv\")\n",
    "data.head()"
   ]
  },
  {
   "cell_type": "code",
   "execution_count": 2,
   "metadata": {},
   "outputs": [
    {
     "data": {
      "text/html": [
       "<div>\n",
       "<style scoped>\n",
       "    .dataframe tbody tr th:only-of-type {\n",
       "        vertical-align: middle;\n",
       "    }\n",
       "\n",
       "    .dataframe tbody tr th {\n",
       "        vertical-align: top;\n",
       "    }\n",
       "\n",
       "    .dataframe thead th {\n",
       "        text-align: right;\n",
       "    }\n",
       "</style>\n",
       "<table border=\"1\" class=\"dataframe\">\n",
       "  <thead>\n",
       "    <tr style=\"text-align: right;\">\n",
       "      <th></th>\n",
       "      <th>ID</th>\n",
       "      <th>Age</th>\n",
       "      <th>Experience</th>\n",
       "      <th>Income</th>\n",
       "      <th>ZIP Code</th>\n",
       "      <th>Family</th>\n",
       "      <th>CCAvg</th>\n",
       "      <th>Education</th>\n",
       "      <th>Mortgage</th>\n",
       "      <th>Personal Loan</th>\n",
       "      <th>Securities Account</th>\n",
       "      <th>CD Account</th>\n",
       "      <th>Online</th>\n",
       "      <th>CreditCard</th>\n",
       "    </tr>\n",
       "  </thead>\n",
       "  <tbody>\n",
       "    <tr>\n",
       "      <th>ID</th>\n",
       "      <td>1.000000</td>\n",
       "      <td>-0.008473</td>\n",
       "      <td>-0.008326</td>\n",
       "      <td>-0.017695</td>\n",
       "      <td>0.013432</td>\n",
       "      <td>-0.016797</td>\n",
       "      <td>-0.024675</td>\n",
       "      <td>0.021463</td>\n",
       "      <td>-0.013920</td>\n",
       "      <td>-0.024801</td>\n",
       "      <td>-0.016972</td>\n",
       "      <td>-0.006909</td>\n",
       "      <td>-0.002528</td>\n",
       "      <td>0.017028</td>\n",
       "    </tr>\n",
       "    <tr>\n",
       "      <th>Age</th>\n",
       "      <td>-0.008473</td>\n",
       "      <td>1.000000</td>\n",
       "      <td>0.994215</td>\n",
       "      <td>-0.055269</td>\n",
       "      <td>-0.029216</td>\n",
       "      <td>-0.046418</td>\n",
       "      <td>-0.052012</td>\n",
       "      <td>0.041334</td>\n",
       "      <td>-0.012539</td>\n",
       "      <td>-0.007726</td>\n",
       "      <td>-0.000436</td>\n",
       "      <td>0.008043</td>\n",
       "      <td>0.013702</td>\n",
       "      <td>0.007681</td>\n",
       "    </tr>\n",
       "    <tr>\n",
       "      <th>Experience</th>\n",
       "      <td>-0.008326</td>\n",
       "      <td>0.994215</td>\n",
       "      <td>1.000000</td>\n",
       "      <td>-0.046574</td>\n",
       "      <td>-0.028626</td>\n",
       "      <td>-0.052563</td>\n",
       "      <td>-0.050077</td>\n",
       "      <td>0.013152</td>\n",
       "      <td>-0.010582</td>\n",
       "      <td>-0.007413</td>\n",
       "      <td>-0.001232</td>\n",
       "      <td>0.010353</td>\n",
       "      <td>0.013898</td>\n",
       "      <td>0.008967</td>\n",
       "    </tr>\n",
       "    <tr>\n",
       "      <th>Income</th>\n",
       "      <td>-0.017695</td>\n",
       "      <td>-0.055269</td>\n",
       "      <td>-0.046574</td>\n",
       "      <td>1.000000</td>\n",
       "      <td>-0.016410</td>\n",
       "      <td>-0.157501</td>\n",
       "      <td>0.645984</td>\n",
       "      <td>-0.187524</td>\n",
       "      <td>0.206806</td>\n",
       "      <td>0.502462</td>\n",
       "      <td>-0.002616</td>\n",
       "      <td>0.169738</td>\n",
       "      <td>0.014206</td>\n",
       "      <td>-0.002385</td>\n",
       "    </tr>\n",
       "    <tr>\n",
       "      <th>ZIP Code</th>\n",
       "      <td>0.013432</td>\n",
       "      <td>-0.029216</td>\n",
       "      <td>-0.028626</td>\n",
       "      <td>-0.016410</td>\n",
       "      <td>1.000000</td>\n",
       "      <td>0.011778</td>\n",
       "      <td>-0.004061</td>\n",
       "      <td>-0.017377</td>\n",
       "      <td>0.007383</td>\n",
       "      <td>0.000107</td>\n",
       "      <td>0.004704</td>\n",
       "      <td>0.019972</td>\n",
       "      <td>0.016990</td>\n",
       "      <td>0.007691</td>\n",
       "    </tr>\n",
       "    <tr>\n",
       "      <th>Family</th>\n",
       "      <td>-0.016797</td>\n",
       "      <td>-0.046418</td>\n",
       "      <td>-0.052563</td>\n",
       "      <td>-0.157501</td>\n",
       "      <td>0.011778</td>\n",
       "      <td>1.000000</td>\n",
       "      <td>-0.109275</td>\n",
       "      <td>0.064929</td>\n",
       "      <td>-0.020445</td>\n",
       "      <td>0.061367</td>\n",
       "      <td>0.019994</td>\n",
       "      <td>0.014110</td>\n",
       "      <td>0.010354</td>\n",
       "      <td>0.011588</td>\n",
       "    </tr>\n",
       "    <tr>\n",
       "      <th>CCAvg</th>\n",
       "      <td>-0.024675</td>\n",
       "      <td>-0.052012</td>\n",
       "      <td>-0.050077</td>\n",
       "      <td>0.645984</td>\n",
       "      <td>-0.004061</td>\n",
       "      <td>-0.109275</td>\n",
       "      <td>1.000000</td>\n",
       "      <td>-0.136124</td>\n",
       "      <td>0.109905</td>\n",
       "      <td>0.366889</td>\n",
       "      <td>0.015086</td>\n",
       "      <td>0.136534</td>\n",
       "      <td>-0.003611</td>\n",
       "      <td>-0.006689</td>\n",
       "    </tr>\n",
       "    <tr>\n",
       "      <th>Education</th>\n",
       "      <td>0.021463</td>\n",
       "      <td>0.041334</td>\n",
       "      <td>0.013152</td>\n",
       "      <td>-0.187524</td>\n",
       "      <td>-0.017377</td>\n",
       "      <td>0.064929</td>\n",
       "      <td>-0.136124</td>\n",
       "      <td>1.000000</td>\n",
       "      <td>-0.033327</td>\n",
       "      <td>0.136722</td>\n",
       "      <td>-0.010812</td>\n",
       "      <td>0.013934</td>\n",
       "      <td>-0.015004</td>\n",
       "      <td>-0.011014</td>\n",
       "    </tr>\n",
       "    <tr>\n",
       "      <th>Mortgage</th>\n",
       "      <td>-0.013920</td>\n",
       "      <td>-0.012539</td>\n",
       "      <td>-0.010582</td>\n",
       "      <td>0.206806</td>\n",
       "      <td>0.007383</td>\n",
       "      <td>-0.020445</td>\n",
       "      <td>0.109905</td>\n",
       "      <td>-0.033327</td>\n",
       "      <td>1.000000</td>\n",
       "      <td>0.142095</td>\n",
       "      <td>-0.005411</td>\n",
       "      <td>0.089311</td>\n",
       "      <td>-0.005995</td>\n",
       "      <td>-0.007231</td>\n",
       "    </tr>\n",
       "    <tr>\n",
       "      <th>Personal Loan</th>\n",
       "      <td>-0.024801</td>\n",
       "      <td>-0.007726</td>\n",
       "      <td>-0.007413</td>\n",
       "      <td>0.502462</td>\n",
       "      <td>0.000107</td>\n",
       "      <td>0.061367</td>\n",
       "      <td>0.366889</td>\n",
       "      <td>0.136722</td>\n",
       "      <td>0.142095</td>\n",
       "      <td>1.000000</td>\n",
       "      <td>0.021954</td>\n",
       "      <td>0.316355</td>\n",
       "      <td>0.006278</td>\n",
       "      <td>0.002802</td>\n",
       "    </tr>\n",
       "    <tr>\n",
       "      <th>Securities Account</th>\n",
       "      <td>-0.016972</td>\n",
       "      <td>-0.000436</td>\n",
       "      <td>-0.001232</td>\n",
       "      <td>-0.002616</td>\n",
       "      <td>0.004704</td>\n",
       "      <td>0.019994</td>\n",
       "      <td>0.015086</td>\n",
       "      <td>-0.010812</td>\n",
       "      <td>-0.005411</td>\n",
       "      <td>0.021954</td>\n",
       "      <td>1.000000</td>\n",
       "      <td>0.317034</td>\n",
       "      <td>0.012627</td>\n",
       "      <td>-0.015028</td>\n",
       "    </tr>\n",
       "    <tr>\n",
       "      <th>CD Account</th>\n",
       "      <td>-0.006909</td>\n",
       "      <td>0.008043</td>\n",
       "      <td>0.010353</td>\n",
       "      <td>0.169738</td>\n",
       "      <td>0.019972</td>\n",
       "      <td>0.014110</td>\n",
       "      <td>0.136534</td>\n",
       "      <td>0.013934</td>\n",
       "      <td>0.089311</td>\n",
       "      <td>0.316355</td>\n",
       "      <td>0.317034</td>\n",
       "      <td>1.000000</td>\n",
       "      <td>0.175880</td>\n",
       "      <td>0.278644</td>\n",
       "    </tr>\n",
       "    <tr>\n",
       "      <th>Online</th>\n",
       "      <td>-0.002528</td>\n",
       "      <td>0.013702</td>\n",
       "      <td>0.013898</td>\n",
       "      <td>0.014206</td>\n",
       "      <td>0.016990</td>\n",
       "      <td>0.010354</td>\n",
       "      <td>-0.003611</td>\n",
       "      <td>-0.015004</td>\n",
       "      <td>-0.005995</td>\n",
       "      <td>0.006278</td>\n",
       "      <td>0.012627</td>\n",
       "      <td>0.175880</td>\n",
       "      <td>1.000000</td>\n",
       "      <td>0.004210</td>\n",
       "    </tr>\n",
       "    <tr>\n",
       "      <th>CreditCard</th>\n",
       "      <td>0.017028</td>\n",
       "      <td>0.007681</td>\n",
       "      <td>0.008967</td>\n",
       "      <td>-0.002385</td>\n",
       "      <td>0.007691</td>\n",
       "      <td>0.011588</td>\n",
       "      <td>-0.006689</td>\n",
       "      <td>-0.011014</td>\n",
       "      <td>-0.007231</td>\n",
       "      <td>0.002802</td>\n",
       "      <td>-0.015028</td>\n",
       "      <td>0.278644</td>\n",
       "      <td>0.004210</td>\n",
       "      <td>1.000000</td>\n",
       "    </tr>\n",
       "  </tbody>\n",
       "</table>\n",
       "</div>"
      ],
      "text/plain": [
       "                          ID       Age  Experience    Income  ZIP Code  \\\n",
       "ID                  1.000000 -0.008473   -0.008326 -0.017695  0.013432   \n",
       "Age                -0.008473  1.000000    0.994215 -0.055269 -0.029216   \n",
       "Experience         -0.008326  0.994215    1.000000 -0.046574 -0.028626   \n",
       "Income             -0.017695 -0.055269   -0.046574  1.000000 -0.016410   \n",
       "ZIP Code            0.013432 -0.029216   -0.028626 -0.016410  1.000000   \n",
       "Family             -0.016797 -0.046418   -0.052563 -0.157501  0.011778   \n",
       "CCAvg              -0.024675 -0.052012   -0.050077  0.645984 -0.004061   \n",
       "Education           0.021463  0.041334    0.013152 -0.187524 -0.017377   \n",
       "Mortgage           -0.013920 -0.012539   -0.010582  0.206806  0.007383   \n",
       "Personal Loan      -0.024801 -0.007726   -0.007413  0.502462  0.000107   \n",
       "Securities Account -0.016972 -0.000436   -0.001232 -0.002616  0.004704   \n",
       "CD Account         -0.006909  0.008043    0.010353  0.169738  0.019972   \n",
       "Online             -0.002528  0.013702    0.013898  0.014206  0.016990   \n",
       "CreditCard          0.017028  0.007681    0.008967 -0.002385  0.007691   \n",
       "\n",
       "                      Family     CCAvg  Education  Mortgage  Personal Loan  \\\n",
       "ID                 -0.016797 -0.024675   0.021463 -0.013920      -0.024801   \n",
       "Age                -0.046418 -0.052012   0.041334 -0.012539      -0.007726   \n",
       "Experience         -0.052563 -0.050077   0.013152 -0.010582      -0.007413   \n",
       "Income             -0.157501  0.645984  -0.187524  0.206806       0.502462   \n",
       "ZIP Code            0.011778 -0.004061  -0.017377  0.007383       0.000107   \n",
       "Family              1.000000 -0.109275   0.064929 -0.020445       0.061367   \n",
       "CCAvg              -0.109275  1.000000  -0.136124  0.109905       0.366889   \n",
       "Education           0.064929 -0.136124   1.000000 -0.033327       0.136722   \n",
       "Mortgage           -0.020445  0.109905  -0.033327  1.000000       0.142095   \n",
       "Personal Loan       0.061367  0.366889   0.136722  0.142095       1.000000   \n",
       "Securities Account  0.019994  0.015086  -0.010812 -0.005411       0.021954   \n",
       "CD Account          0.014110  0.136534   0.013934  0.089311       0.316355   \n",
       "Online              0.010354 -0.003611  -0.015004 -0.005995       0.006278   \n",
       "CreditCard          0.011588 -0.006689  -0.011014 -0.007231       0.002802   \n",
       "\n",
       "                    Securities Account  CD Account    Online  CreditCard  \n",
       "ID                           -0.016972   -0.006909 -0.002528    0.017028  \n",
       "Age                          -0.000436    0.008043  0.013702    0.007681  \n",
       "Experience                   -0.001232    0.010353  0.013898    0.008967  \n",
       "Income                       -0.002616    0.169738  0.014206   -0.002385  \n",
       "ZIP Code                      0.004704    0.019972  0.016990    0.007691  \n",
       "Family                        0.019994    0.014110  0.010354    0.011588  \n",
       "CCAvg                         0.015086    0.136534 -0.003611   -0.006689  \n",
       "Education                    -0.010812    0.013934 -0.015004   -0.011014  \n",
       "Mortgage                     -0.005411    0.089311 -0.005995   -0.007231  \n",
       "Personal Loan                 0.021954    0.316355  0.006278    0.002802  \n",
       "Securities Account            1.000000    0.317034  0.012627   -0.015028  \n",
       "CD Account                    0.317034    1.000000  0.175880    0.278644  \n",
       "Online                        0.012627    0.175880  1.000000    0.004210  \n",
       "CreditCard                   -0.015028    0.278644  0.004210    1.000000  "
      ]
     },
     "execution_count": 2,
     "metadata": {},
     "output_type": "execute_result"
    }
   ],
   "source": [
    "data.corr()"
   ]
  },
  {
   "cell_type": "code",
   "execution_count": 9,
   "metadata": {},
   "outputs": [
    {
     "data": {
      "text/html": [
       "<div>\n",
       "<style scoped>\n",
       "    .dataframe tbody tr th:only-of-type {\n",
       "        vertical-align: middle;\n",
       "    }\n",
       "\n",
       "    .dataframe tbody tr th {\n",
       "        vertical-align: top;\n",
       "    }\n",
       "\n",
       "    .dataframe thead th {\n",
       "        text-align: right;\n",
       "    }\n",
       "</style>\n",
       "<table border=\"1\" class=\"dataframe\">\n",
       "  <thead>\n",
       "    <tr style=\"text-align: right;\">\n",
       "      <th></th>\n",
       "      <th>count</th>\n",
       "      <th>mean</th>\n",
       "      <th>std</th>\n",
       "      <th>min</th>\n",
       "      <th>25%</th>\n",
       "      <th>50%</th>\n",
       "      <th>75%</th>\n",
       "      <th>max</th>\n",
       "    </tr>\n",
       "  </thead>\n",
       "  <tbody>\n",
       "    <tr>\n",
       "      <th>ID</th>\n",
       "      <td>5000.0</td>\n",
       "      <td>2500.500000</td>\n",
       "      <td>1443.520003</td>\n",
       "      <td>1.0</td>\n",
       "      <td>1250.75</td>\n",
       "      <td>2500.5</td>\n",
       "      <td>3750.25</td>\n",
       "      <td>5000.0</td>\n",
       "    </tr>\n",
       "    <tr>\n",
       "      <th>Age</th>\n",
       "      <td>5000.0</td>\n",
       "      <td>45.338400</td>\n",
       "      <td>11.463166</td>\n",
       "      <td>23.0</td>\n",
       "      <td>35.00</td>\n",
       "      <td>45.0</td>\n",
       "      <td>55.00</td>\n",
       "      <td>67.0</td>\n",
       "    </tr>\n",
       "    <tr>\n",
       "      <th>Experience</th>\n",
       "      <td>5000.0</td>\n",
       "      <td>20.104600</td>\n",
       "      <td>11.467954</td>\n",
       "      <td>-3.0</td>\n",
       "      <td>10.00</td>\n",
       "      <td>20.0</td>\n",
       "      <td>30.00</td>\n",
       "      <td>43.0</td>\n",
       "    </tr>\n",
       "    <tr>\n",
       "      <th>Income</th>\n",
       "      <td>5000.0</td>\n",
       "      <td>73.774200</td>\n",
       "      <td>46.033729</td>\n",
       "      <td>8.0</td>\n",
       "      <td>39.00</td>\n",
       "      <td>64.0</td>\n",
       "      <td>98.00</td>\n",
       "      <td>224.0</td>\n",
       "    </tr>\n",
       "    <tr>\n",
       "      <th>ZIP_Code</th>\n",
       "      <td>5000.0</td>\n",
       "      <td>93152.503000</td>\n",
       "      <td>2121.852197</td>\n",
       "      <td>9307.0</td>\n",
       "      <td>91911.00</td>\n",
       "      <td>93437.0</td>\n",
       "      <td>94608.00</td>\n",
       "      <td>96651.0</td>\n",
       "    </tr>\n",
       "    <tr>\n",
       "      <th>Family</th>\n",
       "      <td>5000.0</td>\n",
       "      <td>2.396400</td>\n",
       "      <td>1.147663</td>\n",
       "      <td>1.0</td>\n",
       "      <td>1.00</td>\n",
       "      <td>2.0</td>\n",
       "      <td>3.00</td>\n",
       "      <td>4.0</td>\n",
       "    </tr>\n",
       "    <tr>\n",
       "      <th>CCAvg</th>\n",
       "      <td>5000.0</td>\n",
       "      <td>1.937938</td>\n",
       "      <td>1.747659</td>\n",
       "      <td>0.0</td>\n",
       "      <td>0.70</td>\n",
       "      <td>1.5</td>\n",
       "      <td>2.50</td>\n",
       "      <td>10.0</td>\n",
       "    </tr>\n",
       "    <tr>\n",
       "      <th>Education</th>\n",
       "      <td>5000.0</td>\n",
       "      <td>1.881000</td>\n",
       "      <td>0.839869</td>\n",
       "      <td>1.0</td>\n",
       "      <td>1.00</td>\n",
       "      <td>2.0</td>\n",
       "      <td>3.00</td>\n",
       "      <td>3.0</td>\n",
       "    </tr>\n",
       "    <tr>\n",
       "      <th>Mortgage</th>\n",
       "      <td>5000.0</td>\n",
       "      <td>56.498800</td>\n",
       "      <td>101.713802</td>\n",
       "      <td>0.0</td>\n",
       "      <td>0.00</td>\n",
       "      <td>0.0</td>\n",
       "      <td>101.00</td>\n",
       "      <td>635.0</td>\n",
       "    </tr>\n",
       "    <tr>\n",
       "      <th>Personal_Loan</th>\n",
       "      <td>5000.0</td>\n",
       "      <td>0.096000</td>\n",
       "      <td>0.294621</td>\n",
       "      <td>0.0</td>\n",
       "      <td>0.00</td>\n",
       "      <td>0.0</td>\n",
       "      <td>0.00</td>\n",
       "      <td>1.0</td>\n",
       "    </tr>\n",
       "    <tr>\n",
       "      <th>Securities_Account</th>\n",
       "      <td>5000.0</td>\n",
       "      <td>0.104400</td>\n",
       "      <td>0.305809</td>\n",
       "      <td>0.0</td>\n",
       "      <td>0.00</td>\n",
       "      <td>0.0</td>\n",
       "      <td>0.00</td>\n",
       "      <td>1.0</td>\n",
       "    </tr>\n",
       "    <tr>\n",
       "      <th>CD_Account</th>\n",
       "      <td>5000.0</td>\n",
       "      <td>0.060400</td>\n",
       "      <td>0.238250</td>\n",
       "      <td>0.0</td>\n",
       "      <td>0.00</td>\n",
       "      <td>0.0</td>\n",
       "      <td>0.00</td>\n",
       "      <td>1.0</td>\n",
       "    </tr>\n",
       "    <tr>\n",
       "      <th>Online</th>\n",
       "      <td>5000.0</td>\n",
       "      <td>0.596800</td>\n",
       "      <td>0.490589</td>\n",
       "      <td>0.0</td>\n",
       "      <td>0.00</td>\n",
       "      <td>1.0</td>\n",
       "      <td>1.00</td>\n",
       "      <td>1.0</td>\n",
       "    </tr>\n",
       "    <tr>\n",
       "      <th>CreditCard</th>\n",
       "      <td>5000.0</td>\n",
       "      <td>0.294000</td>\n",
       "      <td>0.455637</td>\n",
       "      <td>0.0</td>\n",
       "      <td>0.00</td>\n",
       "      <td>0.0</td>\n",
       "      <td>1.00</td>\n",
       "      <td>1.0</td>\n",
       "    </tr>\n",
       "  </tbody>\n",
       "</table>\n",
       "</div>"
      ],
      "text/plain": [
       "                     count          mean          std     min       25%  \\\n",
       "ID                  5000.0   2500.500000  1443.520003     1.0   1250.75   \n",
       "Age                 5000.0     45.338400    11.463166    23.0     35.00   \n",
       "Experience          5000.0     20.104600    11.467954    -3.0     10.00   \n",
       "Income              5000.0     73.774200    46.033729     8.0     39.00   \n",
       "ZIP_Code            5000.0  93152.503000  2121.852197  9307.0  91911.00   \n",
       "Family              5000.0      2.396400     1.147663     1.0      1.00   \n",
       "CCAvg               5000.0      1.937938     1.747659     0.0      0.70   \n",
       "Education           5000.0      1.881000     0.839869     1.0      1.00   \n",
       "Mortgage            5000.0     56.498800   101.713802     0.0      0.00   \n",
       "Personal_Loan       5000.0      0.096000     0.294621     0.0      0.00   \n",
       "Securities_Account  5000.0      0.104400     0.305809     0.0      0.00   \n",
       "CD_Account          5000.0      0.060400     0.238250     0.0      0.00   \n",
       "Online              5000.0      0.596800     0.490589     0.0      0.00   \n",
       "CreditCard          5000.0      0.294000     0.455637     0.0      0.00   \n",
       "\n",
       "                        50%       75%      max  \n",
       "ID                   2500.5   3750.25   5000.0  \n",
       "Age                    45.0     55.00     67.0  \n",
       "Experience             20.0     30.00     43.0  \n",
       "Income                 64.0     98.00    224.0  \n",
       "ZIP_Code            93437.0  94608.00  96651.0  \n",
       "Family                  2.0      3.00      4.0  \n",
       "CCAvg                   1.5      2.50     10.0  \n",
       "Education               2.0      3.00      3.0  \n",
       "Mortgage                0.0    101.00    635.0  \n",
       "Personal_Loan           0.0      0.00      1.0  \n",
       "Securities_Account      0.0      0.00      1.0  \n",
       "CD_Account              0.0      0.00      1.0  \n",
       "Online                  1.0      1.00      1.0  \n",
       "CreditCard              0.0      1.00      1.0  "
      ]
     },
     "execution_count": 9,
     "metadata": {},
     "output_type": "execute_result"
    }
   ],
   "source": [
    "data.describe().transpose()"
   ]
  },
  {
   "cell_type": "code",
   "execution_count": null,
   "metadata": {},
   "outputs": [],
   "source": [
    "#From the above table, we can infere that income and Mortgage features have outliers in them"
   ]
  },
  {
   "cell_type": "code",
   "execution_count": 6,
   "metadata": {},
   "outputs": [
    {
     "data": {
      "text/plain": [
       "(5000, 14)"
      ]
     },
     "execution_count": 6,
     "metadata": {},
     "output_type": "execute_result"
    }
   ],
   "source": [
    "data.shape\n"
   ]
  },
  {
   "cell_type": "code",
   "execution_count": 7,
   "metadata": {},
   "outputs": [
    {
     "data": {
      "text/plain": [
       "ID                    0\n",
       "Age                   0\n",
       "Experience            0\n",
       "Income                0\n",
       "ZIP Code              0\n",
       "Family                0\n",
       "CCAvg                 0\n",
       "Education             0\n",
       "Mortgage              0\n",
       "Personal Loan         0\n",
       "Securities Account    0\n",
       "CD Account            0\n",
       "Online                0\n",
       "CreditCard            0\n",
       "dtype: int64"
      ]
     },
     "execution_count": 7,
     "metadata": {},
     "output_type": "execute_result"
    }
   ],
   "source": [
    "data.isnull().sum()\n"
   ]
  },
  {
   "cell_type": "code",
   "execution_count": 8,
   "metadata": {},
   "outputs": [],
   "source": [
    "data.rename(columns = {'Personal Loan':'Personal_Loan','ZIP Code':'ZIP_Code',\n",
    "                      'Securities Account':'Securities_Account','CD Account':'CD_Account'},inplace=True)"
   ]
  },
  {
   "cell_type": "code",
   "execution_count": 11,
   "metadata": {},
   "outputs": [
    {
     "data": {
      "text/plain": [
       "<matplotlib.axes._subplots.AxesSubplot at 0x1a9ff17ab38>"
      ]
     },
     "execution_count": 11,
     "metadata": {},
     "output_type": "execute_result"
    },
    {
     "data": {
      "image/png": "[encoded data removed]",
      "text/plain": [
       "<Figure size 432x288 with 1 Axes>"
      ]
     },
     "metadata": {
      "needs_background": "light"
     },
     "output_type": "display_data"
    }
   ],
   "source": [
    "sns.boxplot(data['Age'])   # No outliers in Age Feature\n"
   ]
  },
  {
   "cell_type": "code",
   "execution_count": 12,
   "metadata": {},
   "outputs": [
    {
     "data": {
      "text/plain": [
       "<matplotlib.axes._subplots.AxesSubplot at 0x1a980662048>"
      ]
     },
     "execution_count": 12,
     "metadata": {},
     "output_type": "execute_result"
    },
    {
     "data": {
      "image/png": "[encoded data removed]",
      "text/plain": [
       "<Figure size 432x288 with 1 Axes>"
      ]
     },
     "metadata": {
      "needs_background": "light"
     },
     "output_type": "display_data"
    }
   ],
   "source": [
    "sns.boxplot(data['Experience'])    # No outliers in this feature\n"
   ]
  },
  {
   "cell_type": "code",
   "execution_count": 13,
   "metadata": {},
   "outputs": [
    {
     "data": {
      "text/plain": [
       "<matplotlib.axes._subplots.AxesSubplot at 0x1a9807b9cc0>"
      ]
     },
     "execution_count": 13,
     "metadata": {},
     "output_type": "execute_result"
    },
    {
     "data": {
      "image/png": "[encoded data removed]",
      "text/plain": [
       "<Figure size 432x288 with 1 Axes>"
      ]
     },
     "metadata": {
      "needs_background": "light"
     },
     "output_type": "display_data"
    }
   ],
   "source": [
    "sns.boxplot(data['Income'])   # There are few outliers present in the Income feature. We have to treat them .\n"
   ]
  },
  {
   "cell_type": "code",
   "execution_count": 14,
   "metadata": {},
   "outputs": [
    {
     "data": {
      "text/plain": [
       "<matplotlib.axes._subplots.AxesSubplot at 0x1a98061a438>"
      ]
     },
     "execution_count": 14,
     "metadata": {},
     "output_type": "execute_result"
    },
    {
     "data": {
      "image/png": "[encoded data removed]",
      "text/plain": [
       "<Figure size 432x288 with 1 Axes>"
      ]
     },
     "metadata": {
      "needs_background": "light"
     },
     "output_type": "display_data"
    }
   ],
   "source": [
    "sns.boxplot(data['Family'])   # No outliers\n"
   ]
  },
  {
   "cell_type": "code",
   "execution_count": 15,
   "metadata": {},
   "outputs": [
    {
     "data": {
      "text/plain": [
       "<matplotlib.axes._subplots.AxesSubplot at 0x1a9808288d0>"
      ]
     },
     "execution_count": 15,
     "metadata": {},
     "output_type": "execute_result"
    },
    {
     "data": {
      "image/png": "[encoded data removed]",
      "text/plain": [
       "<Figure size 432x288 with 1 Axes>"
      ]
     },
     "metadata": {
      "needs_background": "light"
     },
     "output_type": "display_data"
    }
   ],
   "source": [
    "sns.boxplot(data['Mortgage'])   # Many outliers are present\n"
   ]
  },
  {
   "cell_type": "code",
   "execution_count": 16,
   "metadata": {},
   "outputs": [
    {
     "data": {
      "text/plain": [
       "<matplotlib.axes._subplots.AxesSubplot at 0x1a98087b0f0>"
      ]
     },
     "execution_count": 16,
     "metadata": {},
     "output_type": "execute_result"
    },
    {
     "data": {
      "image/png": "[encoded data removed]",
      "text/plain": [
       "<Figure size 432x288 with 1 Axes>"
      ]
     },
     "metadata": {
      "needs_background": "light"
     },
     "output_type": "display_data"
    }
   ],
   "source": [
    "sns.boxplot(data['CCAvg'])    # Outliers are present\n"
   ]
  },
  {
   "cell_type": "markdown",
   "metadata": {},
   "source": [
    "Treating the outliers present in income feature. Since Mortgage and CCAvg are important variables related to our dataset, we are not going to remove the outliers in those two features. We will treat the outliers in Income feature by capping them with upper whisker."
   ]
  },
  {
   "cell_type": "code",
   "execution_count": 17,
   "metadata": {},
   "outputs": [
    {
     "name": "stdout",
     "output_type": "stream",
     "text": [
      "upper_whisk 186.5\n"
     ]
    }
   ],
   "source": [
    "upper_whisk=data[\"Income\"].quantile(0.75)+1.5*(data[\"Income\"].quantile(0.75) - data[\"Income\"].quantile(0.25))\n",
    "print(\"upper_whisk\",upper_whisk)\n",
    "for i in data['Income']:\n",
    "    if(i > upper_whisk):\n",
    "        data['Income']=data['Income'].replace(i,upper_whisk)"
   ]
  },
  {
   "cell_type": "code",
   "execution_count": 18,
   "metadata": {},
   "outputs": [
    {
     "data": {
      "text/plain": [
       "<matplotlib.axes._subplots.AxesSubplot at 0x1a98061a5f8>"
      ]
     },
     "execution_count": 18,
     "metadata": {},
     "output_type": "execute_result"
    },
    {
     "data": {
      "image/png": "[encoded data removed]",
      "text/plain": [
       "<Figure size 432x288 with 1 Axes>"
      ]
     },
     "metadata": {
      "needs_background": "light"
     },
     "output_type": "display_data"
    }
   ],
   "source": [
    "sns.boxplot(data['Income']) ## From the box plot we can now see that the outliers from Income feature has been treated."
   ]
  },
  {
   "cell_type": "code",
   "execution_count": 21,
   "metadata": {},
   "outputs": [],
   "source": [
    "# Dropping the ID feature and ZIP Code feature as they are unrelated to our dataset\n",
    "data.drop(['ID','ZIP Code'],axis = 1, inplace=True)"
   ]
  },
  {
   "cell_type": "code",
   "execution_count": 23,
   "metadata": {},
   "outputs": [
    {
     "data": {
      "text/plain": [
       "<matplotlib.axes._subplots.AxesSubplot at 0x1a980bd1e48>"
      ]
     },
     "execution_count": 23,
     "metadata": {},
     "output_type": "execute_result"
    },
    {
     "data": {
      "image/png": "[encoded data removed]",
      "text/plain": [
       "<Figure size 432x288 with 1 Axes>"
      ]
     },
     "metadata": {
      "needs_background": "light"
     },
     "output_type": "display_data"
    }
   ],
   "source": [
    "sns.countplot(x = data['Family'])  # From the count plot, all families have almost equal members in it."
   ]
  },
  {
   "cell_type": "code",
   "execution_count": 25,
   "metadata": {},
   "outputs": [
    {
     "data": {
      "text/plain": [
       "<matplotlib.axes._subplots.AxesSubplot at 0x1a980c0e128>"
      ]
     },
     "execution_count": 25,
     "metadata": {},
     "output_type": "execute_result"
    },
    {
     "data": {
      "image/png": "[encoded data removed]",
      "text/plain": [
       "<Figure size 432x288 with 1 Axes>"
      ]
     },
     "metadata": {
      "needs_background": "light"
     },
     "output_type": "display_data"
    }
   ],
   "source": [
    "sns.countplot(x = data['Securities Account'])  # More number of people do not have securities account at the bank\n"
   ]
  },
  {
   "cell_type": "code",
   "execution_count": 28,
   "metadata": {},
   "outputs": [
    {
     "data": {
      "text/plain": [
       "<matplotlib.axes._subplots.AxesSubplot at 0x1a980cf1e80>"
      ]
     },
     "execution_count": 28,
     "metadata": {},
     "output_type": "execute_result"
    },
    {
     "data": {
      "image/png": "[encoded data removed]",
      "text/plain": [
       "<Figure size 432x288 with 1 Axes>"
      ]
     },
     "metadata": {
      "needs_background": "light"
     },
     "output_type": "display_data"
    }
   ],
   "source": [
    "sns.countplot(x = data['CD Account']) # more customers have no CD account\n"
   ]
  },
  {
   "cell_type": "code",
   "execution_count": 29,
   "metadata": {},
   "outputs": [
    {
     "data": {
      "text/plain": [
       "<matplotlib.axes._subplots.AxesSubplot at 0x1a980d3a550>"
      ]
     },
     "execution_count": 29,
     "metadata": {},
     "output_type": "execute_result"
    },
    {
     "data": {
      "image/png": "[encoded data removed]",
      "text/plain": [
       "<Figure size 432x288 with 1 Axes>"
      ]
     },
     "metadata": {
      "needs_background": "light"
     },
     "output_type": "display_data"
    }
   ],
   "source": [
    "sns.countplot(x = data['CreditCard']) # Not many people use credit card issued by the bank\n"
   ]
  },
  {
   "cell_type": "code",
   "execution_count": 31,
   "metadata": {},
   "outputs": [
    {
     "data": {
      "text/plain": [
       "Text(0.5, 1.0, 'Personal Loan Details')"
      ]
     },
     "execution_count": 31,
     "metadata": {},
     "output_type": "execute_result"
    },
    {
     "data": {
      "image/png": "[encoded data removed]",
      "text/plain": [
       "<Figure size 432x288 with 1 Axes>"
      ]
     },
     "metadata": {
      "needs_background": "light"
     },
     "output_type": "display_data"
    }
   ],
   "source": [
    "sns.countplot(x = data['Personal Loan'])  # From the graph, it is very clear that only very few customers get personal loan from the bank.\n",
    "plt.title('Personal Loan Details')"
   ]
  },
  {
   "cell_type": "code",
   "execution_count": 32,
   "metadata": {},
   "outputs": [
    {
     "data": {
      "text/plain": [
       "<matplotlib.axes._subplots.AxesSubplot at 0x1a981d985f8>"
      ]
     },
     "execution_count": 32,
     "metadata": {},
     "output_type": "execute_result"
    },
    {
     "data": {
      "image/png": "[encoded data removed]",
      "text/plain": [
       "<Figure size 720x720 with 2 Axes>"
      ]
     },
     "metadata": {
      "needs_background": "light"
     },
     "output_type": "display_data"
    }
   ],
   "source": [
    "plt.figure(figsize=(10,10))\n",
    "sns.heatmap(data.corr(),annot = True)"
   ]
  },
  {
   "cell_type": "code",
   "execution_count": 33,
   "metadata": {},
   "outputs": [
    {
     "data": {
      "text/plain": [
       "Age                  -0.007726\n",
       "Experience           -0.007413\n",
       "Income                0.504559\n",
       "Family                0.061367\n",
       "CCAvg                 0.366889\n",
       "Education             0.136722\n",
       "Mortgage              0.142095\n",
       "Personal Loan         1.000000\n",
       "Securities Account    0.021954\n",
       "CD Account            0.316355\n",
       "Online                0.006278\n",
       "CreditCard            0.002802\n",
       "Name: Personal Loan, dtype: float64"
      ]
     },
     "execution_count": 33,
     "metadata": {},
     "output_type": "execute_result"
    }
   ],
   "source": [
    "data.corr().loc['Personal Loan']\n"
   ]
  },
  {
   "cell_type": "markdown",
   "metadata": {},
   "source": [
    "From the correlation map, we can infere that Income, CCAvg and CD Account are more corelated to Personal Loan and hence they are the most important features for this dataset\n"
   ]
  }
 ],
 "metadata": {
  "kernelspec": {
   "display_name": "Python 3",
   "language": "python",
   "name": "python3"
  },
  "language_info": {
   "codemirror_mode": {
    "name": "ipython",
    "version": 3
   },
   "file_extension": ".py",
   "mimetype": "text/x-python",
   "name": "python",
   "nbconvert_exporter": "python",
   "pygments_lexer": "ipython3",
   "version": "3.7.1"
  }
 },
 "nbformat": 4,
 "nbformat_minor": 2
}
